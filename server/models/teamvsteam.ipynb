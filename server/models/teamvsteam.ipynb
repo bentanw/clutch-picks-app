{
 "cells": [
  {
   "cell_type": "code",
   "execution_count": 2,
   "metadata": {},
   "outputs": [],
   "source": [
    "import pandas as pd\n",
    "from sklearn.model_selection import train_test_split\n",
    "from sklearn.linear_model import LogisticRegression\n",
    "from sklearn.metrics import accuracy_score"
   ]
  },
  {
   "cell_type": "code",
   "execution_count": 3,
   "metadata": {},
   "outputs": [],
   "source": [
    "#clean the data\n",
    "df_2024_2025 = pd.read_csv(\"../data/nbateams/nbateams2024-2025.csv\")  \n",
    "df_2024_2025 = df_2024_2025.dropna(axis=1, how='all')\n",
    "\n",
    "df_2023_2024 = pd.read_csv(\"../data/nbateams/nbateams2023-2024.csv\")  \n",
    "df_2023_2024  = df_2023_2024.dropna(axis=1, how='all')\n",
    "\n",
    "df_2022_2023 = pd.read_csv(\"../data/nbateams/nbateams2022-2023.csv\")  \n",
    "df_2022_2023  = df_2022_2023.dropna(axis=1, how='all')"
   ]
  },
  {
   "cell_type": "code",
   "execution_count": 5,
   "metadata": {},
   "outputs": [
    {
     "name": "stdout",
     "output_type": "stream",
     "text": [
      "<bound method NDFrame.head of                       Team     W     L   ORtg   DRtg  NRtg   Pace    FTr  \\\n",
      "0    Golden State Warriors   6.0   1.0  120.0  102.9  17.1   99.8  0.260   \n",
      "1    Oklahoma City Thunder   7.0   0.0  110.4   93.4  17.0  102.6  0.194   \n",
      "2           Boston Celtics   7.0   1.0  122.6  108.7  13.9   99.6  0.259   \n",
      "3      Cleveland Cavaliers   8.0   0.0  121.5  108.5  13.0  100.6  0.231   \n",
      "4         Sacramento Kings   4.0   3.0  115.9  111.7   4.2  100.6  0.285   \n",
      "..                     ...   ...   ...    ...    ...   ...    ...    ...   \n",
      "85  Portland Trail Blazers  33.0  49.0  114.8  118.8  -4.0   98.6  0.289   \n",
      "86       Charlotte Hornets  27.0  55.0  109.2  115.3  -6.1  100.8  0.261   \n",
      "87         Houston Rockets  22.0  60.0  111.4  119.3  -7.9   99.0  0.285   \n",
      "88         Detroit Pistons  17.0  65.0  110.7  118.9  -8.2   99.0  0.295   \n",
      "89       San Antonio Spurs  22.0  60.0  110.2  120.0  -9.8  101.6  0.229   \n",
      "\n",
      "     3PAr    TS%   eFG%  TOV%  ORB%  FT/FGA  \n",
      "0   0.455  0.591  0.566  11.9  29.7   0.186  \n",
      "1   0.425  0.562  0.534  11.1  18.8   0.152  \n",
      "2   0.551  0.602  0.564  10.3  25.1   0.213  \n",
      "3   0.416  0.630  0.609  11.3  19.2   0.169  \n",
      "4   0.387  0.595  0.551  12.2  21.8   0.238  \n",
      "..    ...    ...    ...   ...   ...     ...  \n",
      "85  0.413  0.589  0.549  13.1  22.4   0.230  \n",
      "86  0.360  0.550  0.516  12.3  23.8   0.195  \n",
      "87  0.359  0.554  0.516  14.0  30.2   0.215  \n",
      "88  0.372  0.561  0.520  13.3  24.9   0.227  \n",
      "89  0.348  0.554  0.525  13.0  25.6   0.170  \n",
      "\n",
      "[90 rows x 14 columns]>\n",
      "Model Accuracy: 0.72\n",
      "Predicted winner: Boston Celtics\n"
     ]
    }
   ],
   "source": [
    "# Ensure there are no NaNs in either dataset by dropping rows with NaNs\n",
    "df_2024_2025 = df_2024_2025[['Team', 'W', 'L', 'ORtg', 'DRtg', 'NRtg', 'Pace', 'FTr', '3PAr', 'TS%', 'eFG%', 'TOV%', 'ORB%', 'FT/FGA']].dropna()\n",
    "df_2023_2024 = df_2023_2024[['Team', 'W', 'L', 'ORtg', 'DRtg', 'NRtg', 'Pace', 'FTr', '3PAr', 'TS%', 'eFG%', 'TOV%', 'ORB%', 'FT/FGA']].dropna()\n",
    "df_2022_2023 = df_2022_2023[['Team', 'W', 'L', 'ORtg', 'DRtg', 'NRtg', 'Pace', 'FTr', '3PAr', 'TS%', 'eFG%', 'TOV%', 'ORB%', 'FT/FGA']].dropna()\n",
    "\n",
    "# Combine both datasets into a single DataFrame\n",
    "df = pd.concat([df_2024_2025, df_2023_2024, df_2022_2023], ignore_index=True)\n",
    "print(df.head)\n",
    "# Define a function to create pairwise feature differences between two teams\n",
    "def create_features(team_a, team_b, data):\n",
    "    team_a_data = data[data['Team'] == team_a].iloc[0]\n",
    "    team_b_data = data[data['Team'] == team_b].iloc[0]\n",
    "    # Calculate the difference in statistics (drop non-numeric columns)\n",
    "    feature_diff = team_a_data.drop(['Team', 'W', 'L']) - team_b_data.drop(['Team', 'W', 'L'])\n",
    "    return feature_diff\n",
    "\n",
    "# Generate training data\n",
    "X = []\n",
    "y = []\n",
    "\n",
    "# Generate pairwise combinations for training\n",
    "for i in range(len(df)):\n",
    "    for j in range(i + 1, len(df)):\n",
    "        team_a = df.iloc[i]\n",
    "        team_b = df.iloc[j]\n",
    "        # Create feature differences\n",
    "        features = create_features(team_a['Team'], team_b['Team'], df)\n",
    "        X.append(features.values)\n",
    "        # Label as 1 if team A has more wins than team B, otherwise 0\n",
    "        y.append(1 if team_a['W'] > team_b['W'] else 0)\n",
    "\n",
    "# Convert X to a DataFrame and apply infer_objects to downcast types without NaN handling\n",
    "X = pd.DataFrame(X)\n",
    "X = X.infer_objects(copy=False)  # Apply downcasting\n",
    "y = pd.Series(y)\n",
    "\n",
    "# Split data into training and testing sets\n",
    "X_train, X_test, y_train, y_test = train_test_split(X, y, test_size=0.2, random_state=42)\n",
    "\n",
    "# Train a logistic regression model\n",
    "model = LogisticRegression()\n",
    "model.fit(X_train, y_train)\n",
    "\n",
    "# Evaluate the model\n",
    "predictions = model.predict(X_test)\n",
    "accuracy = accuracy_score(y_test, predictions)\n",
    "print(f\"Model Accuracy: {accuracy:.2f}\")\n",
    "\n",
    "# Predict the winner between two teams\n",
    "team_a = \"Memphis Grizzlies\"\n",
    "team_b = \"Boston Celtics\"\n",
    "new_features = create_features(team_a, team_b, df).infer_objects(copy=False)  # Downcast without NaN handling\n",
    "prediction = model.predict([new_features])[0]\n",
    "print(f\"Predicted winner: {team_a if prediction == 1 else team_b}\")"
   ]
  }
 ],
 "metadata": {
  "kernelspec": {
   "display_name": "base",
   "language": "python",
   "name": "python3"
  },
  "language_info": {
   "codemirror_mode": {
    "name": "ipython",
    "version": 3
   },
   "file_extension": ".py",
   "mimetype": "text/x-python",
   "name": "python",
   "nbconvert_exporter": "python",
   "pygments_lexer": "ipython3",
   "version": "3.12.7"
  }
 },
 "nbformat": 4,
 "nbformat_minor": 2
}
