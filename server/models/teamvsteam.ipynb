{
 "cells": [
  {
   "cell_type": "code",
   "execution_count": 2,
   "metadata": {},
   "outputs": [],
   "source": [
    "import pandas as pd\n",
    "from sklearn.model_selection import train_test_split\n",
    "from sklearn.linear_model import LogisticRegression\n",
    "from sklearn.metrics import accuracy_score"
   ]
  },
  {
   "cell_type": "code",
   "execution_count": 3,
   "metadata": {},
   "outputs": [
    {
     "name": "stdout",
     "output_type": "stream",
     "text": [
      "    Rk                   Team  G     MP    FG   FGA    FG%    3P   3PA    3P%  \\\n",
      "0  1.0         Boston Celtics  8  243.1  42.5  92.3  0.461  19.0  50.9  0.373   \n",
      "1  2.0    Cleveland Cavaliers  8  240.0  46.1  88.1  0.523  15.1  36.6  0.413   \n",
      "2  3.0  Golden State Warriors  7  243.6  44.0  92.3  0.477  16.4  42.0  0.391   \n",
      "3  4.0        Toronto Raptors  8  246.3  44.8  94.6  0.473  10.9  32.1  0.339   \n",
      "4  5.0         Indiana Pacers  7  247.1  44.7  89.4  0.500  11.7  32.9  0.357   \n",
      "\n",
      "   ...    FT%   ORB   DRB   TRB   AST  STL  BLK   TOV    PF    PTS  \n",
      "0  ...  0.822  11.0  32.8  43.8  23.9  8.8  4.8  11.8  16.4  123.6  \n",
      "1  ...  0.730   7.6  34.0  41.6  28.3  9.9  5.0  12.4  20.8  122.3  \n",
      "2  ...  0.714  13.9  35.1  49.0  30.4  9.7  6.4  13.9  22.6  121.6  \n",
      "3  ...  0.756  14.5  31.0  45.5  31.3  9.1  5.9  17.4  26.6  119.4  \n",
      "4  ...  0.729   9.6  32.6  42.1  30.1  7.3  4.7  15.3  23.4  118.4  \n",
      "\n",
      "[5 rows x 25 columns]\n"
     ]
    }
   ],
   "source": [
    "df = pd.read_csv(\"../data/nbateams.csv\")  # Replace with the actual path to your CSV file\n",
    "\n",
    "# Check if data loaded correctly\n",
    "print(df.head())"
   ]
  },
  {
   "cell_type": "code",
   "execution_count": 5,
   "metadata": {},
   "outputs": [
    {
     "name": "stdout",
     "output_type": "stream",
     "text": [
      "Model Accuracy: 0.99\n",
      "Predicted winner: Boston Celtics\n"
     ]
    }
   ],
   "source": [
    "def create_features(team_a, team_b, data):\n",
    "    team_a_data = data[data['Team'] == team_a].iloc[0]\n",
    "    team_b_data = data[data['Team'] == team_b].iloc[0]\n",
    "    # Calculate feature differences (excluding non-numeric columns like 'Team')\n",
    "    feature_diff = team_a_data.drop(['Team', 'Rk']) - team_b_data.drop(['Team', 'Rk'])\n",
    "    return feature_diff\n",
    "\n",
    "# Create training data\n",
    "X = []\n",
    "y = []\n",
    "\n",
    "# Generate pairwise combinations for each team and assign labels based on PTS as a proxy for win/loss\n",
    "for i in range(len(df)):\n",
    "    for j in range(i + 1, len(df)):\n",
    "        team_a = df.iloc[i]\n",
    "        team_b = df.iloc[j]\n",
    "        # Generate feature differences\n",
    "        features = create_features(team_a['Team'], team_b['Team'], df)\n",
    "        X.append(features.values)\n",
    "        # Label as 1 if team A has higher PTS, else 0\n",
    "        y.append(1 if team_a['PTS'] > team_b['PTS'] else 0)\n",
    "\n",
    "# Convert to DataFrame for model training\n",
    "X = pd.DataFrame(X)\n",
    "y = pd.Series(y)\n",
    "\n",
    "# Split data into training and testing sets\n",
    "X_train, X_test, y_train, y_test = train_test_split(X, y, test_size=0.2, random_state=42)\n",
    "\n",
    "# Train the model\n",
    "model = LogisticRegression()\n",
    "model.fit(X_train, y_train)\n",
    "\n",
    "# Evaluate the model\n",
    "predictions = model.predict(X_test)\n",
    "accuracy = accuracy_score(y_test, predictions)\n",
    "print(f\"Model Accuracy: {accuracy:.2f}\")\n",
    "\n",
    "# Prediction example for two specific teams\n",
    "team_a = \"Boston Celtics\"\n",
    "team_b = \"Cleveland Cavaliers\"\n",
    "new_features = create_features(team_a, team_b, df)\n",
    "prediction = model.predict([new_features])[0]\n",
    "print(f\"Predicted winner: {team_a if prediction == 1 else team_b}\")"
   ]
  }
 ],
 "metadata": {
  "kernelspec": {
   "display_name": "base",
   "language": "python",
   "name": "python3"
  },
  "language_info": {
   "codemirror_mode": {
    "name": "ipython",
    "version": 3
   },
   "file_extension": ".py",
   "mimetype": "text/x-python",
   "name": "python",
   "nbconvert_exporter": "python",
   "pygments_lexer": "ipython3",
   "version": "3.12.4"
  }
 },
 "nbformat": 4,
 "nbformat_minor": 2
}
